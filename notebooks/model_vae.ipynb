{
 "cells": [
  {
   "cell_type": "code",
   "execution_count": 358,
   "metadata": {},
   "outputs": [
    {
     "name": "stdout",
     "output_type": "stream",
     "text": [
      "The autoreload extension is already loaded. To reload it, use:\n",
      "  %reload_ext autoreload\n"
     ]
    }
   ],
   "source": [
    "%load_ext autoreload\n",
    "%autoreload 2\n",
    "\n",
    "\n",
    "import sys\n",
    "sys.path.append(r'C:\\Users\\benny\\Documents\\Brus\\CiDAN\\gae\\gae')\n",
    "\n",
    "from CiDAN.model import VAE, CiDAN\n",
    "\n",
    "import numpy as np\n",
    "import torch\n",
    "from torch import nn, optim\n",
    "import matplotlib.pyplot as plt\n",
    "import pickle\n",
    "import scipy.sparse as sparse\n",
    "from sklearn.metrics import precision_recall_curve"
   ]
  },
  {
   "cell_type": "code",
   "execution_count": 406,
   "metadata": {},
   "outputs": [],
   "source": [
    "SEED = 1\n",
    "torch.manual_seed(SEED)\n",
    "if CUDA:\n",
    "    torch.cuda.manual_seed(SEED)"
   ]
  },
  {
   "cell_type": "code",
   "execution_count": 197,
   "metadata": {},
   "outputs": [],
   "source": [
    "node_num = 10\n",
    "batch_size = 20\n",
    "\n",
    "adj = torch.from_numpy(np.random.randint(2,size=(batch_size,nodes_num,nodes_num))).double()\n",
    "\n",
    "vae = VAE(node_num, hidden_size = 256, ZDIMS = 128, batch_size = batch_size-1)\n",
    "vae = vae.double()\n",
    "\n",
    "optimizer = optim.Adam(vae.parameters(), lr=1e-3)"
   ]
  },
  {
   "cell_type": "code",
   "execution_count": 198,
   "metadata": {},
   "outputs": [
    {
     "data": {
      "image/png": "[encoded data removed]",
      "text/plain": [
       "<matplotlib.figure.Figure at 0x1f303cd5ac8>"
      ]
     },
     "metadata": {},
     "output_type": "display_data"
    }
   ],
   "source": [
    "vae.train()\n",
    "epochs = 20\n",
    "losses = []\n",
    "for epoch in range(epochs):\n",
    "    optimizer.zero_grad()\n",
    "\n",
    "    recon_batch, mu, logvar = vae(adj[1:])\n",
    "    loss = vae.loss_function(recon_batch, adj[:-1], mu, logvar)\n",
    "    loss.backward()\n",
    "    optimizer.step()\n",
    "    \n",
    "    losses.append(loss)\n",
    "\n",
    "plt.plot(losses)\n",
    "plt.show()"
   ]
  },
  {
   "cell_type": "code",
   "execution_count": 203,
   "metadata": {},
   "outputs": [
    {
     "data": {
      "text/plain": [
       "torch.Size([20, 20, 10])"
      ]
     },
     "execution_count": 203,
     "metadata": {},
     "output_type": "execute_result"
    }
   ],
   "source": [
    "torch.cat((adj,adj),1).shape"
   ]
  },
  {
   "cell_type": "markdown",
   "metadata": {},
   "source": [
    "<h3> CiDAN"
   ]
  },
  {
   "cell_type": "code",
   "execution_count": 208,
   "metadata": {},
   "outputs": [],
   "source": [
    "node_numA = 10\n",
    "node_numB = 7\n",
    "batch_size = 20\n",
    "\n",
    "adjA = torch.from_numpy(np.random.randint(2,size=(batch_size,node_numA,node_numA))).double()\n",
    "adjB = torch.from_numpy(np.random.randint(2,size=(batch_size,node_numB,node_numB))).double()\n",
    "\n",
    "\n",
    "cidan = CiDAN(node_numA,node_numB, hidden_size = 256, ZDIMS = 128, batch_size = batch_size-1)\n",
    "cidan = cidan.double()\n",
    "\n",
    "optimizer = optim.Adam(cidan.parameters(), lr=1e-3)"
   ]
  },
  {
   "cell_type": "code",
   "execution_count": 218,
   "metadata": {},
   "outputs": [
    {
     "data": {
      "image/png": "[encoded data removed]",
      "text/plain": [
       "<matplotlib.figure.Figure at 0x1f303ebfda0>"
      ]
     },
     "metadata": {},
     "output_type": "display_data"
    }
   ],
   "source": [
    "cidan.train()\n",
    "epochs = 20\n",
    "losses = []\n",
    "for epoch in range(epochs):\n",
    "    optimizer.zero_grad()\n",
    "\n",
    "    recon_batchA, recon_batchB , muA, muB, logvarA, logvarB = cidan(adjA[1:], adjB[1:])\n",
    "    loss = vae.loss_function(recon_batchA, adjA[:-1], muA, logvarA)\n",
    "    loss.backward()\n",
    "    optimizer.step()\n",
    "    \n",
    "    losses.append(loss)\n",
    "\n",
    "plt.plot(losses)\n",
    "plt.show()"
   ]
  },
  {
   "cell_type": "markdown",
   "metadata": {},
   "source": [
    "<h3> VAE real Data"
   ]
  },
  {
   "cell_type": "code",
   "execution_count": 412,
   "metadata": {},
   "outputs": [],
   "source": [
    "with open (r'C:\\Users\\benny\\Documents\\Brus\\CiDAN\\gae\\gae\\CiDAN/Reality_Mining_MIT.adjs', 'rb') as f:\n",
    "    data = pickle.load(f)[20:]\n",
    "data = list(map(sparse.csr_matrix.todense, data))\n",
    "data_torch = torch.from_numpy(np.array(data))"
   ]
  },
  {
   "cell_type": "code",
   "execution_count": 413,
   "metadata": {},
   "outputs": [],
   "source": [
    "node_num = data_torch.shape[1]\n",
    "batch_size = data_torch.shape[0]\n",
    "CUDA = True\n",
    "\n",
    "\n",
    "X = data_torch[:batch_size]\n",
    "\n",
    "vae = VAE(node_num, hidden_size = 256, ZDIMS = 128, batch_size = batch_size-1)\n",
    "vae = vae.double()\n",
    "\n",
    "optimizer = optim.Adam(vae.parameters(), lr=1e-3)"
   ]
  },
  {
   "cell_type": "code",
   "execution_count": 428,
   "metadata": {},
   "outputs": [
    {
     "name": "stdout",
     "output_type": "stream",
     "text": [
      "tensor(0.2071, dtype=torch.float64)\n",
      "tensor(0.1872, dtype=torch.float64)\n",
      "tensor(0.1698, dtype=torch.float64)\n",
      "tensor(0.1547, dtype=torch.float64)\n",
      "tensor(0.1407, dtype=torch.float64)\n"
     ]
    },
    {
     "ename": "KeyboardInterrupt",
     "evalue": "",
     "output_type": "error",
     "traceback": [
      "\u001b[1;31m---------------------------------------------------------------------------\u001b[0m",
      "\u001b[1;31mKeyboardInterrupt\u001b[0m                         Traceback (most recent call last)",
      "\u001b[1;32m<ipython-input-428-88ce821b7b67>\u001b[0m in \u001b[0;36m<module>\u001b[1;34m()\u001b[0m\n\u001b[0;32m      7\u001b[0m     \u001b[0mrecon_batch\u001b[0m\u001b[1;33m,\u001b[0m \u001b[0mmu\u001b[0m\u001b[1;33m,\u001b[0m \u001b[0mlogvar\u001b[0m \u001b[1;33m=\u001b[0m \u001b[0mvae\u001b[0m\u001b[1;33m(\u001b[0m\u001b[0mX\u001b[0m\u001b[1;33m[\u001b[0m\u001b[1;36m1\u001b[0m\u001b[1;33m:\u001b[0m\u001b[1;33m]\u001b[0m\u001b[1;33m)\u001b[0m\u001b[1;33m\u001b[0m\u001b[0m\n\u001b[0;32m      8\u001b[0m     \u001b[0mloss\u001b[0m \u001b[1;33m=\u001b[0m \u001b[0mvae\u001b[0m\u001b[1;33m.\u001b[0m\u001b[0mloss_function\u001b[0m\u001b[1;33m(\u001b[0m\u001b[0mrecon_batch\u001b[0m\u001b[1;33m,\u001b[0m \u001b[0mX\u001b[0m\u001b[1;33m[\u001b[0m\u001b[1;36m1\u001b[0m\u001b[1;33m:\u001b[0m\u001b[1;33m]\u001b[0m\u001b[1;33m,\u001b[0m \u001b[0mmu\u001b[0m\u001b[1;33m,\u001b[0m \u001b[0mlogvar\u001b[0m\u001b[1;33m)\u001b[0m\u001b[1;33m\u001b[0m\u001b[0m\n\u001b[1;32m----> 9\u001b[1;33m     \u001b[0mloss\u001b[0m\u001b[1;33m.\u001b[0m\u001b[0mbackward\u001b[0m\u001b[1;33m(\u001b[0m\u001b[1;33m)\u001b[0m\u001b[1;33m\u001b[0m\u001b[0m\n\u001b[0m\u001b[0;32m     10\u001b[0m     \u001b[0moptimizer\u001b[0m\u001b[1;33m.\u001b[0m\u001b[0mstep\u001b[0m\u001b[1;33m(\u001b[0m\u001b[1;33m)\u001b[0m\u001b[1;33m\u001b[0m\u001b[0m\n\u001b[0;32m     11\u001b[0m \u001b[1;33m\u001b[0m\u001b[0m\n",
      "\u001b[1;32mC:\\ProgramData\\Anaconda3\\lib\\site-packages\\torch\\tensor.py\u001b[0m in \u001b[0;36mbackward\u001b[1;34m(self, gradient, retain_graph, create_graph)\u001b[0m\n\u001b[0;32m     91\u001b[0m                 \u001b[0mproducts\u001b[0m\u001b[1;33m.\u001b[0m \u001b[0mDefaults\u001b[0m \u001b[0mto\u001b[0m\u001b[0;31m \u001b[0m\u001b[0;31m`\u001b[0m\u001b[0;31m`\u001b[0m\u001b[1;32mFalse\u001b[0m\u001b[0;31m`\u001b[0m\u001b[0;31m`\u001b[0m\u001b[1;33m.\u001b[0m\u001b[1;33m\u001b[0m\u001b[0m\n\u001b[0;32m     92\u001b[0m         \"\"\"\n\u001b[1;32m---> 93\u001b[1;33m         \u001b[0mtorch\u001b[0m\u001b[1;33m.\u001b[0m\u001b[0mautograd\u001b[0m\u001b[1;33m.\u001b[0m\u001b[0mbackward\u001b[0m\u001b[1;33m(\u001b[0m\u001b[0mself\u001b[0m\u001b[1;33m,\u001b[0m \u001b[0mgradient\u001b[0m\u001b[1;33m,\u001b[0m \u001b[0mretain_graph\u001b[0m\u001b[1;33m,\u001b[0m \u001b[0mcreate_graph\u001b[0m\u001b[1;33m)\u001b[0m\u001b[1;33m\u001b[0m\u001b[0m\n\u001b[0m\u001b[0;32m     94\u001b[0m \u001b[1;33m\u001b[0m\u001b[0m\n\u001b[0;32m     95\u001b[0m     \u001b[1;32mdef\u001b[0m \u001b[0mregister_hook\u001b[0m\u001b[1;33m(\u001b[0m\u001b[0mself\u001b[0m\u001b[1;33m,\u001b[0m \u001b[0mhook\u001b[0m\u001b[1;33m)\u001b[0m\u001b[1;33m:\u001b[0m\u001b[1;33m\u001b[0m\u001b[0m\n",
      "\u001b[1;32mC:\\ProgramData\\Anaconda3\\lib\\site-packages\\torch\\autograd\\__init__.py\u001b[0m in \u001b[0;36mbackward\u001b[1;34m(tensors, grad_tensors, retain_graph, create_graph, grad_variables)\u001b[0m\n\u001b[0;32m     87\u001b[0m     Variable._execution_engine.run_backward(\n\u001b[0;32m     88\u001b[0m         \u001b[0mtensors\u001b[0m\u001b[1;33m,\u001b[0m \u001b[0mgrad_tensors\u001b[0m\u001b[1;33m,\u001b[0m \u001b[0mretain_graph\u001b[0m\u001b[1;33m,\u001b[0m \u001b[0mcreate_graph\u001b[0m\u001b[1;33m,\u001b[0m\u001b[1;33m\u001b[0m\u001b[0m\n\u001b[1;32m---> 89\u001b[1;33m         allow_unreachable=True)  # allow_unreachable flag\n\u001b[0m\u001b[0;32m     90\u001b[0m \u001b[1;33m\u001b[0m\u001b[0m\n\u001b[0;32m     91\u001b[0m \u001b[1;33m\u001b[0m\u001b[0m\n",
      "\u001b[1;31mKeyboardInterrupt\u001b[0m: "
     ]
    }
   ],
   "source": [
    "vae.train()\n",
    "epochs = 20\n",
    "losses = []\n",
    "for epoch in range(epochs):\n",
    "    optimizer.zero_grad()\n",
    "\n",
    "    recon_batch, mu, logvar = vae(X[1:])\n",
    "    loss = vae.loss_function(recon_batch, X[1:], mu, logvar)\n",
    "    loss.backward()\n",
    "    optimizer.step()\n",
    "    \n",
    "    print(loss)\n",
    "    losses.append(loss)\n",
    "\n",
    "plt.plot(losses)\n",
    "plt.show()"
   ]
  },
  {
   "cell_type": "code",
   "execution_count": 431,
   "metadata": {},
   "outputs": [],
   "source": [
    "vae.eval()\n",
    "recon_batch, mu, logvar = vae(X[1:])\n",
    "recon_batch = recon_batch.view((-1,node_num,node_num))"
   ]
  },
  {
   "cell_type": "code",
   "execution_count": 432,
   "metadata": {},
   "outputs": [],
   "source": [
    "y_pred = recon_batch.view(-1).data.numpy()\n",
    "y_true = X[1:].reshape(-1).data.numpy()"
   ]
  },
  {
   "cell_type": "code",
   "execution_count": 433,
   "metadata": {},
   "outputs": [
    {
     "data": {
      "image/png": "[encoded data removed]",
      "text/plain": [
       "<matplotlib.figure.Figure at 0x1f308dc2390>"
      ]
     },
     "metadata": {},
     "output_type": "display_data"
    }
   ],
   "source": [
    "precision, recall, thresholds = precision_recall_curve(y_true, y_pred)\n",
    "plt.plot(recall,precision)\n",
    "plt.xlabel('recall')\n",
    "plt.ylabel('precision')\n",
    "plt.show()"
   ]
  },
  {
   "cell_type": "code",
   "execution_count": 434,
   "metadata": {},
   "outputs": [
    {
     "data": {
      "text/plain": [
       "tensor([[[ 1.3241e-09,  8.7038e-09,  8.8530e-10,  ...,  5.4740e-08,\n",
       "           3.8856e-10,  1.4545e-11],\n",
       "         [ 2.1989e-07,  4.1559e-10,  3.1255e-10,  ...,  4.6406e-10,\n",
       "           1.3859e-09,  2.7724e-08],\n",
       "         [ 1.0512e-10,  1.0092e-10,  2.2706e-11,  ...,  1.8267e-09,\n",
       "           5.0053e-08,  1.1675e-08],\n",
       "         ...,\n",
       "         [ 4.4723e-10,  1.5276e-07,  4.1635e-11,  ...,  9.9812e-10,\n",
       "           2.3496e-12,  7.6469e-10],\n",
       "         [ 2.9454e-11,  1.9668e-08,  5.4459e-11,  ...,  2.5258e-10,\n",
       "           2.5120e-08,  1.9349e-09],\n",
       "         [ 5.8021e-10,  1.9012e-10,  1.2192e-10,  ...,  3.0422e-09,\n",
       "           6.3503e-10,  1.3684e-09]],\n",
       "\n",
       "        [[ 3.5295e-02,  4.8196e-02,  3.2308e-02,  ...,  6.4322e-02,\n",
       "           2.9505e-02,  1.7517e-02],\n",
       "         [ 8.1918e-02,  2.8332e-02,  2.9147e-02,  ...,  3.2617e-02,\n",
       "           3.8228e-02,  6.0821e-02],\n",
       "         [ 2.5189e-02,  2.7029e-02,  2.0538e-02,  ...,  3.9283e-02,\n",
       "           6.5101e-02,  5.3949e-02],\n",
       "         ...,\n",
       "         [ 3.0509e-02,  7.6643e-02,  2.2181e-02,  ...,  3.5722e-02,\n",
       "           1.3935e-02,  3.3311e-02],\n",
       "         [ 1.8958e-02,  5.4619e-02,  2.2070e-02,  ...,  2.9182e-02,\n",
       "           5.7005e-02,  3.6944e-02],\n",
       "         [ 3.3839e-02,  2.6793e-02,  2.5515e-02,  ...,  3.9046e-02,\n",
       "           3.2435e-02,  3.5914e-02]],\n",
       "\n",
       "        [[ 8.1405e-02,  1.0298e-01,  7.6984e-02,  ...,  1.2488e-01,\n",
       "           7.2985e-02,  5.0188e-02],\n",
       "         [ 1.4918e-01,  6.9337e-02,  7.2588e-02,  ...,  7.9671e-02,\n",
       "           8.9521e-02,  1.2258e-01],\n",
       "         [ 6.6328e-02,  7.0467e-02,  5.7685e-02,  ...,  8.9936e-02,\n",
       "           1.2630e-01,  1.1213e-01],\n",
       "         ...,\n",
       "         [ 7.4984e-02,  1.4224e-01,  6.0717e-02,  ...,  8.3797e-02,\n",
       "           4.3699e-02,  8.0091e-02],\n",
       "         [ 5.2529e-02,  1.1248e-01,  5.9139e-02,  ...,  7.3812e-02,\n",
       "           1.1370e-01,  8.4267e-02],\n",
       "         [ 8.1205e-02,  6.8033e-02,  6.6223e-02,  ...,  8.7912e-02,\n",
       "           7.8105e-02,  8.3224e-02]],\n",
       "\n",
       "        ...,\n",
       "\n",
       "        [[ 4.0188e-02,  5.4939e-02,  3.7401e-02,  ...,  7.1337e-02,\n",
       "           3.4318e-02,  2.0658e-02],\n",
       "         [ 9.0552e-02,  3.2895e-02,  3.3907e-02,  ...,  3.7369e-02,\n",
       "           4.4137e-02,  6.8832e-02],\n",
       "         [ 2.9507e-02,  3.1188e-02,  2.4150e-02,  ...,  4.4871e-02,\n",
       "           7.1956e-02,  6.0557e-02],\n",
       "         ...,\n",
       "         [ 3.5429e-02,  8.4819e-02,  2.6081e-02,  ...,  4.0845e-02,\n",
       "           1.6837e-02,  3.8537e-02],\n",
       "         [ 2.2356e-02,  6.2270e-02,  2.5701e-02,  ...,  3.4054e-02,\n",
       "           6.3827e-02,  4.2647e-02],\n",
       "         [ 3.8881e-02,  3.1037e-02,  2.9912e-02,  ...,  4.4922e-02,\n",
       "           3.7335e-02,  4.1009e-02]],\n",
       "\n",
       "        [[ 1.4455e-01,  1.7166e-01,  1.3908e-01,  ...,  1.9493e-01,\n",
       "           1.3520e-01,  1.0405e-01],\n",
       "         [ 2.2217e-01,  1.2914e-01,  1.3533e-01,  ...,  1.4506e-01,\n",
       "           1.5812e-01,  1.9617e-01],\n",
       "         [ 1.2872e-01,  1.3587e-01,  1.1805e-01,  ...,  1.5732e-01,\n",
       "           1.9724e-01,  1.8468e-01],\n",
       "         ...,\n",
       "         [ 1.3817e-01,  2.1466e-01,  1.2124e-01,  ...,  1.4989e-01,\n",
       "           9.6601e-02,  1.4478e-01],\n",
       "         [ 1.0703e-01,  1.8296e-01,  1.1747e-01,  ...,  1.3946e-01,\n",
       "           1.8393e-01,  1.4903e-01],\n",
       "         [ 1.4851e-01,  1.2945e-01,  1.2782e-01,  ...,  1.5241e-01,\n",
       "           1.4232e-01,  1.4777e-01]],\n",
       "\n",
       "        [[ 9.0737e-02,  1.1280e-01,  8.6191e-02,  ...,  1.3571e-01,\n",
       "           8.1432e-02,  5.7331e-02],\n",
       "         [ 1.6108e-01,  7.7827e-02,  8.1470e-02,  ...,  8.8472e-02,\n",
       "           9.8689e-02,  1.3360e-01],\n",
       "         [ 7.4571e-02,  7.9532e-02,  6.5894e-02,  ...,  9.9855e-02,\n",
       "           1.3684e-01,  1.2303e-01],\n",
       "         ...,\n",
       "         [ 8.3776e-02,  1.5374e-01,  6.8773e-02,  ...,  9.3105e-02,\n",
       "           5.0578e-02,  8.8893e-02],\n",
       "         [ 5.9872e-02,  1.2332e-01,  6.7310e-02,  ...,  8.2939e-02,\n",
       "           1.2467e-01,  9.4132e-02],\n",
       "         [ 9.0896e-02,  7.6484e-02,  7.5022e-02,  ...,  9.7202e-02,\n",
       "           8.7436e-02,  9.2155e-02]]], dtype=torch.float64)"
      ]
     },
     "execution_count": 434,
     "metadata": {},
     "output_type": "execute_result"
    }
   ],
   "source": [
    "recon_batch"
   ]
  },
  {
   "cell_type": "code",
   "execution_count": null,
   "metadata": {},
   "outputs": [],
   "source": []
  }
 ],
 "metadata": {
  "kernelspec": {
   "display_name": "Python 3",
   "language": "python",
   "name": "python3"
  },
  "language_info": {
   "codemirror_mode": {
    "name": "ipython",
    "version": 3
   },
   "file_extension": ".py",
   "mimetype": "text/x-python",
   "name": "python",
   "nbconvert_exporter": "python",
   "pygments_lexer": "ipython3",
   "version": "3.6.4"
  }
 },
 "nbformat": 4,
 "nbformat_minor": 1
}
